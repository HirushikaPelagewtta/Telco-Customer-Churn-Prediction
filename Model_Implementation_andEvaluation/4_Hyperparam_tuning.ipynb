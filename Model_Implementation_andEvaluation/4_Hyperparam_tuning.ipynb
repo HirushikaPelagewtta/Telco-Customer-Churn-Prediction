{
 "cells": [
  {
   "cell_type": "code",
   "execution_count": 1,
   "id": "566cc30d",
   "metadata": {},
   "outputs": [],
   "source": [
    "import warnings\n",
    "import numpy as np\n",
    "import pandas as pd\n",
    "import seaborn as sns\n",
    "import matplotlib.pyplot as plt\n",
    "from sklearn.ensemble import RandomForestClassifier\n",
    "from sklearn.tree   import DecisionTreeClassifier\n",
    "from sklearn.linear_model import LogisticRegression\n",
    "from sklearn.model_selection import (\n",
    "    StratifiedKFold,\n",
    "    cross_validate,\n",
    "    GridSearchCV,\n",
    ")\n",
    "from sklearn.metrics import (\n",
    "    confusion_matrix,\n",
    "    f1_score,\n",
    "    precision_score,\n",
    "    accuracy_score,\n",
    "    recall_score\n",
    ")\n",
    "warnings.filterwarnings('ignore')"
   ]
  },
  {
   "cell_type": "markdown",
   "id": "43b2b7ff",
   "metadata": {},
   "source": [
    "### 1. Loading Data"
   ]
  },
  {
   "cell_type": "code",
   "execution_count": 2,
   "id": "4d60c428",
   "metadata": {},
   "outputs": [],
   "source": [
    "X_train = np.load('Artifacts/X_train.npz')['arr_0']\n",
    "Y_train = np.load('Artifacts/Y_train.npz')['arr_0']\n",
    "X_test = np.load('Artifacts/X_test.npz')['arr_0']\n",
    "Y_test = np.load('Artifacts/Y_test.npz')['arr_0']"
   ]
  },
  {
   "cell_type": "markdown",
   "id": "a7106ae1",
   "metadata": {},
   "source": [
    "### 2. Define Parameter Grid"
   ]
  },
  {
   "cell_type": "code",
   "execution_count": 3,
   "id": "a56b0cc2",
   "metadata": {},
   "outputs": [],
   "source": [
    "# Define parameter grids for hyperparameter tuning\n",
    "\n",
    "lr_param_grid ={\n",
    "    'max_iter': [1000, 5000, 10000],\n",
    "}\n",
    "\n",
    "dt_param_grid = {\n",
    "    'max_depth': [8,12,16, 20],\n",
    "    'criterion': ['gini', 'entropy', 'log_loss'],\n",
    "}\n",
    "\n",
    "rf_param_grid = {\n",
    "    'n_estimators': [100],\n",
    "    'max_depth': [8,12],\n",
    "    'criterion': ['gini', 'entropy', 'log_loss'],\n",
    "}\n",
    "\n",
    "param_grids ={\n",
    "    'logistic_regression': lr_param_grid,\n",
    "    'decision_tree': dt_param_grid,\n",
    "    'random_forest': rf_param_grid\n",
    "}"
   ]
  },
  {
   "cell_type": "markdown",
   "id": "5c665807",
   "metadata": {},
   "source": [
    "### 3. Define Multiple Models"
   ]
  },
  {
   "cell_type": "code",
   "execution_count": 4,
   "id": "880b53f8",
   "metadata": {},
   "outputs": [],
   "source": [
    "models ={\n",
    "    'logistic_regression': LogisticRegression(),\n",
    "    'decision_tree': DecisionTreeClassifier(),\n",
    "    'random_forest': RandomForestClassifier()\n",
    "    \n",
    "}"
   ]
  },
  {
   "cell_type": "markdown",
   "id": "ed2ca872",
   "metadata": {},
   "source": [
    "### 4. Configure K-Fold CV"
   ]
  },
  {
   "cell_type": "code",
   "execution_count": 5,
   "id": "610afc30",
   "metadata": {},
   "outputs": [],
   "source": [
    "cv = StratifiedKFold(\n",
    "    n_splits=6,\n",
    "    random_state=42,\n",
    "    shuffle=True\n",
    "\n",
    ")"
   ]
  },
  {
   "cell_type": "code",
   "execution_count": 6,
   "id": "1e054c7a",
   "metadata": {},
   "outputs": [
    {
     "name": "stdout",
     "output_type": "stream",
     "text": [
      "\n",
      "Training logistic_regression...\n",
      "Fitting grid search for logistic_regression\n",
      "Fitting 6 folds for each of 3 candidates, totalling 18 fits\n",
      "logistic_regression best parameters: {'max_iter': 1000}\n",
      "logistic_regression best score: 0.7977\n",
      "\n",
      "Training decision_tree...\n",
      "Fitting grid search for decision_tree\n",
      "Fitting 6 folds for each of 12 candidates, totalling 72 fits\n",
      "decision_tree best parameters: {'criterion': 'entropy', 'max_depth': 12}\n",
      "decision_tree best score: 0.8039\n",
      "\n",
      "Training random_forest...\n",
      "Fitting grid search for random_forest\n",
      "Fitting 6 folds for each of 6 candidates, totalling 36 fits\n",
      "random_forest best parameters: {'criterion': 'gini', 'max_depth': 12, 'n_estimators': 100}\n",
      "random_forest best score: 0.8465\n"
     ]
    }
   ],
   "source": [
    "grid_search_results = {}\n",
    "for model_name, model in models.items():\n",
    "    print(f\"\\nTraining {model_name}...\")\n",
    "\n",
    "    param_grid = param_grids[model_name]\n",
    "\n",
    "    grid_search = GridSearchCV(\n",
    "        estimator=model,\n",
    "        param_grid=param_grid,\n",
    "        scoring='f1',\n",
    "        cv=cv,\n",
    "        verbose=1,\n",
    "        return_train_score=False\n",
    "    )\n",
    "\n",
    "    print(f\"Fitting grid search for {model_name}\")\n",
    "    grid_search.fit(X_train, Y_train)\n",
    "\n",
    "    grid_search_results[model_name] = grid_search\n",
    "\n",
    "    print(f\"{model_name} best parameters: {grid_search.best_params_}\")\n",
    "    print(f\"{model_name} best score: {grid_search.best_score_:.4f}\")"
   ]
  }
 ],
 "metadata": {
  "kernelspec": {
   "display_name": "bprmls",
   "language": "python",
   "name": "python3"
  },
  "language_info": {
   "codemirror_mode": {
    "name": "ipython",
    "version": 3
   },
   "file_extension": ".py",
   "mimetype": "text/x-python",
   "name": "python",
   "nbconvert_exporter": "python",
   "pygments_lexer": "ipython3",
   "version": "3.11.13"
  }
 },
 "nbformat": 4,
 "nbformat_minor": 5
}
